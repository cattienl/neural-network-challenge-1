{
  "nbformat": 4,
  "nbformat_minor": 0,
  "metadata": {
    "colab": {
      "provenance": [],
      "authorship_tag": "ABX9TyPKKmSJyEyVU79pV+UKoo91",
      "include_colab_link": true
    },
    "kernelspec": {
      "name": "python3",
      "display_name": "Python 3"
    },
    "language_info": {
      "name": "python"
    }
  },
  "cells": [
    {
      "cell_type": "markdown",
      "metadata": {
        "id": "view-in-github",
        "colab_type": "text"
      },
      "source": [
        "<a href=\"https://colab.research.google.com/github/cattienl/neural-network-challenge-1/blob/main/neural_network_challenge_1_py.ipynb\" target=\"_parent\"><img src=\"https://colab.research.google.com/assets/colab-badge.svg\" alt=\"Open In Colab\"/></a>"
      ]
    },
    {
      "cell_type": "code",
      "execution_count": null,
      "metadata": {
        "id": "94MfMUD_2SPp"
      },
      "outputs": [],
      "source": []
    },
    {
      "cell_type": "code",
      "source": [
        "# Importing necessary libraries\n",
        "import pandas as pd\n",
        "import numpy as np\n",
        "from sklearn.model_selection import train_test_split\n",
        "from sklearn.preprocessing import StandardScaler\n",
        "from sklearn.metrics import classification_report\n",
        "from tensorflow.keras.models import Sequential, save_model, load_model\n",
        "from tensorflow.keras.layers import Dense\n",
        "\n",
        "# Part 1: Prepare the Data for Use on a Neural Network Model\n",
        "# Read the data\n",
        "url = \"https://static.bc-edx.com/ai/ail-v-1-0/m18/lms/datasets/student-loans.csv\"\n",
        "df = pd.read_csv(url)\n",
        "\n",
        "# Review DataFrame\n",
        "print(df.head())\n",
        "\n",
        "# Define features and target\n",
        "X = df.drop(columns=['credit_ranking'])\n",
        "y = df['credit_ranking']\n",
        "\n",
        "# Split the data into training and testing sets\n",
        "X_train, X_test, y_train, y_test = train_test_split(X, y, test_size=0.2, random_state=42)\n",
        "\n",
        "# Scale the features data\n",
        "scaler = StandardScaler()\n",
        "X_train_scaled = scaler.fit_transform(X_train)\n",
        "X_test_scaled = scaler.transform(X_test)\n",
        "\n",
        "# Part 2: Compile and Evaluate a Model Using a Neural Network\n",
        "# Create a neural network model\n",
        "model = Sequential([\n",
        "    Dense(64, activation='relu', input_shape=(X_train_scaled.shape[1],)),\n",
        "    Dense(32, activation='relu'),\n",
        "    Dense(1, activation='sigmoid')\n",
        "])\n",
        "\n",
        "# Compile the model\n",
        "model.compile(optimizer='adam', loss='binary_crossentropy', metrics=['accuracy'])\n",
        "\n",
        "# Fit the model\n",
        "model.fit(X_train_scaled, y_train, epochs=50, batch_size=32, verbose=0)\n",
        "\n",
        "# Evaluate the model\n",
        "loss, accuracy = model.evaluate(X_test_scaled, y_test)\n",
        "print(f'Test Loss: {loss}, Test Accuracy: {accuracy}')\n",
        "\n",
        "# Save the model\n",
        "save_model(model, 'student_loans.keras')\n",
        "\n",
        "# Part 3: Predict loan repayment success by using your neural network model\n",
        "# Reload the saved model\n",
        "loaded_model = load_model('student_loans.keras')\n",
        "\n",
        "# Make predictions\n",
        "y_pred = loaded_model.predict(X_test_scaled)\n",
        "y_pred_binary = np.round(y_pred).astype(int)\n",
        "\n",
        "# Generate classification report\n",
        "print(classification_report(y_test, y_pred_binary))\n",
        "\n",
        "\n"
      ],
      "metadata": {
        "colab": {
          "base_uri": "https://localhost:8080/"
        },
        "id": "W3RQgqeg28WG",
        "outputId": "48799976-a83b-4c37-b6f9-b8d751b2b2e3"
      },
      "execution_count": 1,
      "outputs": [
        {
          "output_type": "stream",
          "name": "stdout",
          "text": [
            "   payment_history  location_parameter  stem_degree_score  gpa_ranking  \\\n",
            "0              7.4                0.70               0.00          1.9   \n",
            "1              7.8                0.88               0.00          2.6   \n",
            "2              7.8                0.76               0.04          2.3   \n",
            "3             11.2                0.28               0.56          1.9   \n",
            "4              7.4                0.70               0.00          1.9   \n",
            "\n",
            "   alumni_success  study_major_code  time_to_completion  \\\n",
            "0           0.076              11.0                34.0   \n",
            "1           0.098              25.0                67.0   \n",
            "2           0.092              15.0                54.0   \n",
            "3           0.075              17.0                60.0   \n",
            "4           0.076              11.0                34.0   \n",
            "\n",
            "   finance_workshop_score  cohort_ranking  total_loan_score  \\\n",
            "0                  0.9978            3.51              0.56   \n",
            "1                  0.9968            3.20              0.68   \n",
            "2                  0.9970            3.26              0.65   \n",
            "3                  0.9980            3.16              0.58   \n",
            "4                  0.9978            3.51              0.56   \n",
            "\n",
            "   financial_aid_score  credit_ranking  \n",
            "0                  9.4               0  \n",
            "1                  9.8               0  \n",
            "2                  9.8               0  \n",
            "3                  9.8               1  \n",
            "4                  9.4               0  \n",
            "10/10 [==============================] - 0s 3ms/step - loss: 0.4805 - accuracy: 0.7625\n",
            "Test Loss: 0.4805122911930084, Test Accuracy: 0.762499988079071\n",
            "10/10 [==============================] - 0s 3ms/step\n",
            "              precision    recall  f1-score   support\n",
            "\n",
            "           0       0.71      0.79      0.74       141\n",
            "           1       0.82      0.74      0.78       179\n",
            "\n",
            "    accuracy                           0.76       320\n",
            "   macro avg       0.76      0.77      0.76       320\n",
            "weighted avg       0.77      0.76      0.76       320\n",
            "\n"
          ]
        }
      ]
    }
  ]
}